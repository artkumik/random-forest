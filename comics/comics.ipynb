{
 "cells": [
  {
   "cell_type": "code",
   "execution_count": 287,
   "id": "04e1913c",
   "metadata": {},
   "outputs": [],
   "source": [
    "import pandas as pd\n",
    "import numpy as np\n",
    "import matplotlib.pyplot as plt\n",
    "import seaborn as sns"
   ]
  },
  {
   "cell_type": "code",
   "execution_count": 288,
   "id": "f9d69947",
   "metadata": {},
   "outputs": [
    {
     "name": "stdout",
     "output_type": "stream",
     "text": [
      "Path to dataset files: C:\\Users\\arturk\\.cache\\kagglehub\\datasets\\deepcontractor\\marvel-comic-books\\versions\\4\n"
     ]
    },
    {
     "data": {
      "text/html": [
       "<div>\n",
       "<style scoped>\n",
       "    .dataframe tbody tr th:only-of-type {\n",
       "        vertical-align: middle;\n",
       "    }\n",
       "\n",
       "    .dataframe tbody tr th {\n",
       "        vertical-align: top;\n",
       "    }\n",
       "\n",
       "    .dataframe thead th {\n",
       "        text-align: right;\n",
       "    }\n",
       "</style>\n",
       "<table border=\"1\" class=\"dataframe\">\n",
       "  <thead>\n",
       "    <tr style=\"text-align: right;\">\n",
       "      <th></th>\n",
       "      <th>comic_name</th>\n",
       "      <th>active_years</th>\n",
       "      <th>issue_title</th>\n",
       "      <th>publish_date</th>\n",
       "      <th>issue_description</th>\n",
       "      <th>penciler</th>\n",
       "      <th>writer</th>\n",
       "      <th>cover_artist</th>\n",
       "      <th>Imprint</th>\n",
       "      <th>Format</th>\n",
       "      <th>Rating</th>\n",
       "      <th>Price</th>\n",
       "    </tr>\n",
       "  </thead>\n",
       "  <tbody>\n",
       "    <tr>\n",
       "      <th>0</th>\n",
       "      <td>A Year of Marvels: April Infinite Comic (2016)</td>\n",
       "      <td>(2016)</td>\n",
       "      <td>A Year of Marvels: April Infinite Comic (2016) #1</td>\n",
       "      <td>April 01, 2016</td>\n",
       "      <td>The Infinite Comic that will have everyone tal...</td>\n",
       "      <td>Yves Bigerel</td>\n",
       "      <td>Yves Bigerel</td>\n",
       "      <td>Jamal Campbell</td>\n",
       "      <td>Marvel Universe</td>\n",
       "      <td>Infinite Comic</td>\n",
       "      <td>Rated T+</td>\n",
       "      <td>Free</td>\n",
       "    </tr>\n",
       "    <tr>\n",
       "      <th>1</th>\n",
       "      <td>A Year of Marvels: August Infinite Comic (2016)</td>\n",
       "      <td>(2016)</td>\n",
       "      <td>A Year of Marvels: August Infinite Comic (2016...</td>\n",
       "      <td>August 10, 2016</td>\n",
       "      <td>It’s August, and Nick Fury is just in time to ...</td>\n",
       "      <td>Jamal Campbell</td>\n",
       "      <td>Chris Sims, Chad Bowers</td>\n",
       "      <td>NaN</td>\n",
       "      <td>Marvel Universe</td>\n",
       "      <td>Infinite Comic</td>\n",
       "      <td>NaN</td>\n",
       "      <td>Free</td>\n",
       "    </tr>\n",
       "    <tr>\n",
       "      <th>2</th>\n",
       "      <td>A Year of Marvels: February Infinite Comic (2016)</td>\n",
       "      <td>(2016)</td>\n",
       "      <td>A Year of Marvels: February Infinite Comic (20...</td>\n",
       "      <td>February 10, 2016</td>\n",
       "      <td>Join us in a brand new Marvel comics adventure...</td>\n",
       "      <td>Danilo S. Beyruth, M Mast</td>\n",
       "      <td>Ryan North</td>\n",
       "      <td>NaN</td>\n",
       "      <td>Marvel Universe</td>\n",
       "      <td>Infinite Comic</td>\n",
       "      <td>Rated T+</td>\n",
       "      <td>Free</td>\n",
       "    </tr>\n",
       "    <tr>\n",
       "      <th>3</th>\n",
       "      <td>A Year of Marvels: July Infinite Comic (2016)</td>\n",
       "      <td>(2016)</td>\n",
       "      <td>A Year of Marvels: July Infinite Comic (2016) #1</td>\n",
       "      <td>June 29, 2016</td>\n",
       "      <td>Celebrating the Fourth of July is complicated ...</td>\n",
       "      <td>Juanan Ramirez</td>\n",
       "      <td>Chuck Wendig</td>\n",
       "      <td>Jamal Campbell</td>\n",
       "      <td>Marvel Universe</td>\n",
       "      <td>Infinite Comic</td>\n",
       "      <td>NaN</td>\n",
       "      <td>Free</td>\n",
       "    </tr>\n",
       "    <tr>\n",
       "      <th>4</th>\n",
       "      <td>A Year of Marvels: June Infinite Comic (2016)</td>\n",
       "      <td>(2016)</td>\n",
       "      <td>A Year of Marvels: June Infinite Comic (2016) #1</td>\n",
       "      <td>June 15, 2016</td>\n",
       "      <td>Sam Alexander’s finding it hard to cope with t...</td>\n",
       "      <td>Diego Olortegui</td>\n",
       "      <td>Paul Allor</td>\n",
       "      <td>Jamal Campbell</td>\n",
       "      <td>Marvel Universe</td>\n",
       "      <td>Infinite Comic</td>\n",
       "      <td>NaN</td>\n",
       "      <td>Free</td>\n",
       "    </tr>\n",
       "  </tbody>\n",
       "</table>\n",
       "</div>"
      ],
      "text/plain": [
       "                                          comic_name active_years  \\\n",
       "0     A Year of Marvels: April Infinite Comic (2016)       (2016)   \n",
       "1    A Year of Marvels: August Infinite Comic (2016)       (2016)   \n",
       "2  A Year of Marvels: February Infinite Comic (2016)       (2016)   \n",
       "3      A Year of Marvels: July Infinite Comic (2016)       (2016)   \n",
       "4      A Year of Marvels: June Infinite Comic (2016)       (2016)   \n",
       "\n",
       "                                         issue_title       publish_date  \\\n",
       "0  A Year of Marvels: April Infinite Comic (2016) #1     April 01, 2016   \n",
       "1  A Year of Marvels: August Infinite Comic (2016...    August 10, 2016   \n",
       "2  A Year of Marvels: February Infinite Comic (20...  February 10, 2016   \n",
       "3   A Year of Marvels: July Infinite Comic (2016) #1      June 29, 2016   \n",
       "4   A Year of Marvels: June Infinite Comic (2016) #1      June 15, 2016   \n",
       "\n",
       "                                   issue_description  \\\n",
       "0  The Infinite Comic that will have everyone tal...   \n",
       "1  It’s August, and Nick Fury is just in time to ...   \n",
       "2  Join us in a brand new Marvel comics adventure...   \n",
       "3  Celebrating the Fourth of July is complicated ...   \n",
       "4  Sam Alexander’s finding it hard to cope with t...   \n",
       "\n",
       "                    penciler                   writer    cover_artist  \\\n",
       "0               Yves Bigerel             Yves Bigerel  Jamal Campbell   \n",
       "1             Jamal Campbell  Chris Sims, Chad Bowers             NaN   \n",
       "2  Danilo S. Beyruth, M Mast               Ryan North             NaN   \n",
       "3             Juanan Ramirez             Chuck Wendig  Jamal Campbell   \n",
       "4            Diego Olortegui               Paul Allor  Jamal Campbell   \n",
       "\n",
       "            Imprint           Format     Rating  Price  \n",
       "0   Marvel Universe   Infinite Comic   Rated T+   Free  \n",
       "1   Marvel Universe   Infinite Comic        NaN   Free  \n",
       "2   Marvel Universe   Infinite Comic   Rated T+   Free  \n",
       "3   Marvel Universe   Infinite Comic        NaN   Free  \n",
       "4   Marvel Universe   Infinite Comic        NaN   Free  "
      ]
     },
     "execution_count": 288,
     "metadata": {},
     "output_type": "execute_result"
    }
   ],
   "source": [
    "import kagglehub\n",
    "path = kagglehub.dataset_download(\"deepcontractor/marvel-comic-books\")\n",
    "print(\"Path to dataset files:\", path)\n",
    "df = pd.read_csv(path + \"/Marvel_Comics.csv\")\n",
    "df.head()"
   ]
  },
  {
   "cell_type": "code",
   "execution_count": 289,
   "id": "4c3aadc7",
   "metadata": {},
   "outputs": [
    {
     "data": {
      "text/plain": [
       "comic_name               0\n",
       "active_years             0\n",
       "issue_title            526\n",
       "publish_date           526\n",
       "issue_description     4597\n",
       "penciler              9510\n",
       "writer                7397\n",
       "cover_artist         22737\n",
       "Imprint              23308\n",
       "Format                2098\n",
       "Rating               22373\n",
       "Price                 2098\n",
       "dtype: int64"
      ]
     },
     "execution_count": 289,
     "metadata": {},
     "output_type": "execute_result"
    }
   ],
   "source": [
    "df.isna().sum()"
   ]
  },
  {
   "cell_type": "code",
   "execution_count": 290,
   "id": "e8c9eb25",
   "metadata": {},
   "outputs": [
    {
     "name": "stdout",
     "output_type": "stream",
     "text": [
      "\n"
     ]
    },
    {
     "data": {
      "text/plain": [
       "351696"
      ]
     },
     "execution_count": 290,
     "metadata": {},
     "output_type": "execute_result"
    }
   ],
   "source": [
    "df[\"issue_title\"] = df[\"issue_title\"].fillna(df[\"comic_name\"])\n",
    "df[\"penciler\"] = df[\"penciler\"].fillna(\"Unknown\")\n",
    "df[\"writer\"] = df[\"writer\"].fillna(\"Unknown\")\n",
    "df[\"cover_artist\"] = df[\"cover_artist\"].fillna(\"Unknown\")\n",
    "df[\"Imprint\"] = df[\"Imprint\"].fillna(\"None\")\n",
    "df[\"Format\"] = df[\"Format\"].fillna(\"None\")\n",
    "df[\"Rating\"] = df[\"Rating\"].fillna(\"No Rating\")\n",
    "\n",
    "df = df[df[\"publish_date\"] != \"November 30, -0001\"]\n",
    "df[\"publish_date\"] = pd.to_datetime(df[\"publish_date\"])\n",
    "\n",
    "print()\n",
    "df = df.dropna()\n",
    "df.size"
   ]
  },
  {
   "cell_type": "markdown",
   "id": "d9375d4b",
   "metadata": {},
   "source": [
    "***Data Exploration***"
   ]
  },
  {
   "cell_type": "code",
   "execution_count": 291,
   "id": "08dec5fa",
   "metadata": {},
   "outputs": [
    {
     "data": {
      "image/png": "[encoded data removed]",
      "text/plain": [
       "<Figure size 640x480 with 1 Axes>"
      ]
     },
     "metadata": {},
     "output_type": "display_data"
    }
   ],
   "source": [
    "writer_counts = df[\"writer\"].value_counts()\n",
    "writer_counts = writer_counts[:10]\n",
    "\n",
    "sns.set_theme(style = \"darkgrid\")\n",
    "sns.barplot(x = writer_counts, y = writer_counts.index, hue = writer_counts.index)\n",
    "plt.xlabel(\"Comics Written\")\n",
    "plt.ylabel(\"Writer Name\")\n",
    "plt.tight_layout()\n",
    "plt.show()"
   ]
  },
  {
   "cell_type": "code",
   "execution_count": 292,
   "id": "78270b73",
   "metadata": {},
   "outputs": [
    {
     "data": {
      "image/png": "[encoded data removed]",
      "text/plain": [
       "<Figure size 500x500 with 1 Axes>"
      ]
     },
     "metadata": {},
     "output_type": "display_data"
    }
   ],
   "source": [
    "date_counts = df[\"publish_date\"]\n",
    "date_counts = date_counts.dt.year.value_counts()\n",
    "\n",
    "sns.relplot(x = date_counts.index, y = date_counts,kind = \"line\")\n",
    "plt.title(\"Comics released per year\")\n",
    "plt.show()"
   ]
  },
  {
   "cell_type": "markdown",
   "id": "b0152761",
   "metadata": {},
   "source": [
    "I noticed that the rating system was inconsistent for the ratings. I have changed it to become All Ages, A, T, T+, Parental Advisory, and then Explicit Content. This was a mess of combing all the ratings systmes from the wikipedia page. If multiple warnings were listed, the higher one was taken. Pluses automatically promoted the rating scale. No rating was given to any that said no rating, missing, or something along the lines of \"Not in Oracle\", which is likely a database issue on the side of the dataset creator."
   ]
  },
  {
   "cell_type": "code",
   "execution_count": null,
   "id": "7bebd2e8",
   "metadata": {},
   "outputs": [
    {
     "data": {
      "text/plain": [
       "Rating\n",
       "No Rating            17048\n",
       "Rated T+              4323\n",
       "Rated T               3020\n",
       "Parental Advisory     2496\n",
       "All Ages              1173\n",
       "Rated A                898\n",
       "Explicit Content       350\n",
       "Name: count, dtype: int64"
      ]
     },
     "execution_count": 293,
     "metadata": {},
     "output_type": "execute_result"
    }
   ],
   "source": [
    "df.loc[df[\"Rating\"] == \" ALL AGES\", \"Rating\"] = \"All Ages\"\n",
    "df.loc[df[\"Rating\"] == \"ALL AGES\", \"Rating\"] = \"All Ages\"\n",
    "df.loc[df[\"Rating\"] == \" All Ages\", \"Rating\"] = \"All Ages\"\n",
    "\n",
    "df.loc[df[\"Rating\"] == \" RATED A\", \"Rating\"] = \"Rated A\"\n",
    "df.loc[df[\"Rating\"] == \" Rated a\", \"Rating\"] = \"Rated A\"\n",
    "df.loc[df[\"Rating\"] == \" Rated A\", \"Rating\"] = \"Rated A\"\n",
    "df.loc[df[\"Rating\"] == \" A\", \"Rating\"] = \"Rated A\"\n",
    "df.loc[df[\"Rating\"] == \" Ages 10 & Up\", \"Rating\"] = \"Rated A\"\n",
    "\n",
    "df.loc[df[\"Rating\"] == \" T\", \"Rating\"] = \"Rated T\"\n",
    "df.loc[df[\"Rating\"] == \" Rated T\", \"Rating\"] = \"Rated T\"\n",
    "df.loc[df[\"Rating\"] == \" RATED T\", \"Rating\"] = \"Rated T\"\n",
    "\n",
    "df.loc[df[\"Rating\"] == \" Rated T+\", \"Rating\"] = \"Rated T+\"\n",
    "df.loc[df[\"Rating\"] == \" RATED T+\", \"Rating\"] = \"Rated T+\"\n",
    "df.loc[df[\"Rating\"] == \" T+\", \"Rating\"] = \"Rated T+\"\n",
    "\n",
    "df.loc[df[\"Rating\"] == \" Marvel Psr\", \"Rating\"] = \"Parental Advisory\"\n",
    "df.loc[df[\"Rating\"] == \" Marvel PSR\", \"Rating\"] = \"Parental Advisory\"\n",
    "df.loc[df[\"Rating\"] == \" MARVEL PSR\", \"Rating\"] = \"Parental Advisory\"\n",
    "df.loc[df[\"Rating\"] == \" Parental Advisory\", \"Rating\"] = \"Parental Advisory\"\n",
    "df.loc[df[\"Rating\"] == \" PARENTAL ADVISORY\", \"Rating\"] = \"Parental Advisory\"\n",
    "df.loc[df[\"Rating\"] == \" Parental AdvisorySLC\", \"Rating\"] = \"Parental Advisory\"\n",
    "df.loc[df[\"Rating\"] == \" Parental Advisoryslc\", \"Rating\"] = \"Parental Advisory\"\n",
    "df.loc[df[\"Rating\"] == \" PARENTAL ADVISORYSLC\", \"Rating\"] = \"Parental Advisory\"\n",
    "df.loc[df[\"Rating\"] == \" PARENTAL SUPERVISION\", \"Rating\"] = \"Parental Advisory\"\n",
    "df.loc[df[\"Rating\"] == \" Parental Guidance\", \"Rating\"] = \"Parental Advisory\"\n",
    "\n",
    "df.loc[df[\"Rating\"] == \" EXPLICIT CONTENT\", \"Rating\"] = \"Explicit Content\"\n",
    "df.loc[df[\"Rating\"] == \" Explicit Content\", \"Rating\"] = \"Explicit Content\"\n",
    "df.loc[df[\"Rating\"] == \" MAX\", \"Rating\"] = \"Explicit Content\"\n",
    "df.loc[df[\"Rating\"] == \" Max\", \"Rating\"] = \"Explicit Content\"\n",
    "df.loc[df[\"Rating\"] == \" MARVEL PSR+\", \"Rating\"] = \"Explicit Content\"\n",
    "df.loc[df[\"Rating\"] == \" Parental Advisory/Explicit Content\", \"Rating\"] = \"Explicit Content\"\n",
    "df.loc[df[\"Rating\"] == \" PARENTAL ADVISORY/EXPLICIT CONTENT\", \"Rating\"] = \"Explicit Content\"\n",
    "df.loc[df[\"Rating\"] == \" Marvel Psr+\", \"Rating\"] = \"Explicit Content\"\n",
    "df.loc[df[\"Rating\"] == \" Mature\", \"Rating\"] = \"Explicit Content\"\n",
    "\n",
    "df.loc[df[\"Rating\"] == \" No Rating\", \"Rating\"] = \"No Rating\"\n",
    "df.loc[df[\"Rating\"] == \" NO RATING\", \"Rating\"] = \"No Rating\"\n",
    "df.loc[df[\"Rating\"] == \" NOT IN ORACLE\", \"Rating\"] = \"No Rating\"\n",
    "df.loc[df[\"Rating\"] == \" Not in Oracle\", \"Rating\"] = \"No Rating\"\n",
    "\n",
    "df[\"Rating\"].value_counts()"
   ]
  }
 ],
 "metadata": {
  "kernelspec": {
   "display_name": "Python 3",
   "language": "python",
   "name": "python3"
  },
  "language_info": {
   "codemirror_mode": {
    "name": "ipython",
    "version": 3
   },
   "file_extension": ".py",
   "mimetype": "text/x-python",
   "name": "python",
   "nbconvert_exporter": "python",
   "pygments_lexer": "ipython3",
   "version": "3.12.10"
  }
 },
 "nbformat": 4,
 "nbformat_minor": 5
}
