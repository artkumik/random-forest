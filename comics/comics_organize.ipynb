{
 "cells": [
  {
   "cell_type": "markdown",
   "id": "730d2e00",
   "metadata": {},
   "source": [
    "youtube video to follow -> https://www.youtube.com/watch?v=Q7mS1VHm3Yw&ab_channel=freeCodeCamp.org"
   ]
  },
  {
   "cell_type": "code",
   "execution_count": 197,
   "id": "04e1913c",
   "metadata": {},
   "outputs": [],
   "source": [
    "import pandas as pd\n",
    "import numpy as np\n",
    "import matplotlib.pyplot as plt\n",
    "import seaborn as sns"
   ]
  },
  {
   "cell_type": "code",
   "execution_count": 198,
   "id": "f9d69947",
   "metadata": {},
   "outputs": [
    {
     "name": "stdout",
     "output_type": "stream",
     "text": [
      "Path to dataset files: C:\\Users\\arturk\\.cache\\kagglehub\\datasets\\deepcontractor\\marvel-comic-books\\versions\\4\n"
     ]
    },
    {
     "data": {
      "text/html": [
       "<div>\n",
       "<style scoped>\n",
       "    .dataframe tbody tr th:only-of-type {\n",
       "        vertical-align: middle;\n",
       "    }\n",
       "\n",
       "    .dataframe tbody tr th {\n",
       "        vertical-align: top;\n",
       "    }\n",
       "\n",
       "    .dataframe thead th {\n",
       "        text-align: right;\n",
       "    }\n",
       "</style>\n",
       "<table border=\"1\" class=\"dataframe\">\n",
       "  <thead>\n",
       "    <tr style=\"text-align: right;\">\n",
       "      <th></th>\n",
       "      <th>comic_name</th>\n",
       "      <th>active_years</th>\n",
       "      <th>issue_title</th>\n",
       "      <th>publish_date</th>\n",
       "      <th>issue_description</th>\n",
       "      <th>penciler</th>\n",
       "      <th>writer</th>\n",
       "      <th>cover_artist</th>\n",
       "      <th>Imprint</th>\n",
       "      <th>Format</th>\n",
       "      <th>Rating</th>\n",
       "      <th>Price</th>\n",
       "    </tr>\n",
       "  </thead>\n",
       "  <tbody>\n",
       "    <tr>\n",
       "      <th>0</th>\n",
       "      <td>A Year of Marvels: April Infinite Comic (2016)</td>\n",
       "      <td>(2016)</td>\n",
       "      <td>A Year of Marvels: April Infinite Comic (2016) #1</td>\n",
       "      <td>April 01, 2016</td>\n",
       "      <td>The Infinite Comic that will have everyone tal...</td>\n",
       "      <td>Yves Bigerel</td>\n",
       "      <td>Yves Bigerel</td>\n",
       "      <td>Jamal Campbell</td>\n",
       "      <td>Marvel Universe</td>\n",
       "      <td>Infinite Comic</td>\n",
       "      <td>Rated T+</td>\n",
       "      <td>Free</td>\n",
       "    </tr>\n",
       "    <tr>\n",
       "      <th>1</th>\n",
       "      <td>A Year of Marvels: August Infinite Comic (2016)</td>\n",
       "      <td>(2016)</td>\n",
       "      <td>A Year of Marvels: August Infinite Comic (2016...</td>\n",
       "      <td>August 10, 2016</td>\n",
       "      <td>It’s August, and Nick Fury is just in time to ...</td>\n",
       "      <td>Jamal Campbell</td>\n",
       "      <td>Chris Sims, Chad Bowers</td>\n",
       "      <td>NaN</td>\n",
       "      <td>Marvel Universe</td>\n",
       "      <td>Infinite Comic</td>\n",
       "      <td>NaN</td>\n",
       "      <td>Free</td>\n",
       "    </tr>\n",
       "    <tr>\n",
       "      <th>2</th>\n",
       "      <td>A Year of Marvels: February Infinite Comic (2016)</td>\n",
       "      <td>(2016)</td>\n",
       "      <td>A Year of Marvels: February Infinite Comic (20...</td>\n",
       "      <td>February 10, 2016</td>\n",
       "      <td>Join us in a brand new Marvel comics adventure...</td>\n",
       "      <td>Danilo S. Beyruth, M Mast</td>\n",
       "      <td>Ryan North</td>\n",
       "      <td>NaN</td>\n",
       "      <td>Marvel Universe</td>\n",
       "      <td>Infinite Comic</td>\n",
       "      <td>Rated T+</td>\n",
       "      <td>Free</td>\n",
       "    </tr>\n",
       "    <tr>\n",
       "      <th>3</th>\n",
       "      <td>A Year of Marvels: July Infinite Comic (2016)</td>\n",
       "      <td>(2016)</td>\n",
       "      <td>A Year of Marvels: July Infinite Comic (2016) #1</td>\n",
       "      <td>June 29, 2016</td>\n",
       "      <td>Celebrating the Fourth of July is complicated ...</td>\n",
       "      <td>Juanan Ramirez</td>\n",
       "      <td>Chuck Wendig</td>\n",
       "      <td>Jamal Campbell</td>\n",
       "      <td>Marvel Universe</td>\n",
       "      <td>Infinite Comic</td>\n",
       "      <td>NaN</td>\n",
       "      <td>Free</td>\n",
       "    </tr>\n",
       "    <tr>\n",
       "      <th>4</th>\n",
       "      <td>A Year of Marvels: June Infinite Comic (2016)</td>\n",
       "      <td>(2016)</td>\n",
       "      <td>A Year of Marvels: June Infinite Comic (2016) #1</td>\n",
       "      <td>June 15, 2016</td>\n",
       "      <td>Sam Alexander’s finding it hard to cope with t...</td>\n",
       "      <td>Diego Olortegui</td>\n",
       "      <td>Paul Allor</td>\n",
       "      <td>Jamal Campbell</td>\n",
       "      <td>Marvel Universe</td>\n",
       "      <td>Infinite Comic</td>\n",
       "      <td>NaN</td>\n",
       "      <td>Free</td>\n",
       "    </tr>\n",
       "  </tbody>\n",
       "</table>\n",
       "</div>"
      ],
      "text/plain": [
       "                                          comic_name active_years  \\\n",
       "0     A Year of Marvels: April Infinite Comic (2016)       (2016)   \n",
       "1    A Year of Marvels: August Infinite Comic (2016)       (2016)   \n",
       "2  A Year of Marvels: February Infinite Comic (2016)       (2016)   \n",
       "3      A Year of Marvels: July Infinite Comic (2016)       (2016)   \n",
       "4      A Year of Marvels: June Infinite Comic (2016)       (2016)   \n",
       "\n",
       "                                         issue_title       publish_date  \\\n",
       "0  A Year of Marvels: April Infinite Comic (2016) #1     April 01, 2016   \n",
       "1  A Year of Marvels: August Infinite Comic (2016...    August 10, 2016   \n",
       "2  A Year of Marvels: February Infinite Comic (20...  February 10, 2016   \n",
       "3   A Year of Marvels: July Infinite Comic (2016) #1      June 29, 2016   \n",
       "4   A Year of Marvels: June Infinite Comic (2016) #1      June 15, 2016   \n",
       "\n",
       "                                   issue_description  \\\n",
       "0  The Infinite Comic that will have everyone tal...   \n",
       "1  It’s August, and Nick Fury is just in time to ...   \n",
       "2  Join us in a brand new Marvel comics adventure...   \n",
       "3  Celebrating the Fourth of July is complicated ...   \n",
       "4  Sam Alexander’s finding it hard to cope with t...   \n",
       "\n",
       "                    penciler                   writer    cover_artist  \\\n",
       "0               Yves Bigerel             Yves Bigerel  Jamal Campbell   \n",
       "1             Jamal Campbell  Chris Sims, Chad Bowers             NaN   \n",
       "2  Danilo S. Beyruth, M Mast               Ryan North             NaN   \n",
       "3             Juanan Ramirez             Chuck Wendig  Jamal Campbell   \n",
       "4            Diego Olortegui               Paul Allor  Jamal Campbell   \n",
       "\n",
       "            Imprint           Format     Rating  Price  \n",
       "0   Marvel Universe   Infinite Comic   Rated T+   Free  \n",
       "1   Marvel Universe   Infinite Comic        NaN   Free  \n",
       "2   Marvel Universe   Infinite Comic   Rated T+   Free  \n",
       "3   Marvel Universe   Infinite Comic        NaN   Free  \n",
       "4   Marvel Universe   Infinite Comic        NaN   Free  "
      ]
     },
     "execution_count": 198,
     "metadata": {},
     "output_type": "execute_result"
    }
   ],
   "source": [
    "import kagglehub\n",
    "path = kagglehub.dataset_download(\"deepcontractor/marvel-comic-books\")\n",
    "print(\"Path to dataset files:\", path)\n",
    "df = pd.read_csv(path + \"/Marvel_Comics.csv\")\n",
    "df.head()"
   ]
  },
  {
   "cell_type": "code",
   "execution_count": 199,
   "id": "514bdcab",
   "metadata": {},
   "outputs": [
    {
     "name": "stdout",
     "output_type": "stream",
     "text": [
      "<class 'pandas.core.frame.DataFrame'>\n",
      "RangeIndex: 34992 entries, 0 to 34991\n",
      "Data columns (total 12 columns):\n",
      " #   Column             Non-Null Count  Dtype \n",
      "---  ------             --------------  ----- \n",
      " 0   comic_name         34992 non-null  object\n",
      " 1   active_years       34992 non-null  object\n",
      " 2   issue_title        34466 non-null  object\n",
      " 3   publish_date       34466 non-null  object\n",
      " 4   issue_description  30395 non-null  object\n",
      " 5   penciler           25482 non-null  object\n",
      " 6   writer             27595 non-null  object\n",
      " 7   cover_artist       12255 non-null  object\n",
      " 8   Imprint            11684 non-null  object\n",
      " 9   Format             32894 non-null  object\n",
      " 10  Rating             12619 non-null  object\n",
      " 11  Price              32894 non-null  object\n",
      "dtypes: object(12)\n",
      "memory usage: 3.2+ MB\n"
     ]
    }
   ],
   "source": [
    "df.info()"
   ]
  },
  {
   "cell_type": "code",
   "execution_count": 200,
   "id": "4c3aadc7",
   "metadata": {},
   "outputs": [
    {
     "data": {
      "text/plain": [
       "comic_name               0\n",
       "active_years             0\n",
       "issue_title            526\n",
       "publish_date           526\n",
       "issue_description     4597\n",
       "penciler              9510\n",
       "writer                7397\n",
       "cover_artist         22737\n",
       "Imprint              23308\n",
       "Format                2098\n",
       "Rating               22373\n",
       "Price                 2098\n",
       "dtype: int64"
      ]
     },
     "execution_count": 200,
     "metadata": {},
     "output_type": "execute_result"
    }
   ],
   "source": [
    "df.isna().sum()"
   ]
  },
  {
   "cell_type": "code",
   "execution_count": 201,
   "id": "08a450e8",
   "metadata": {},
   "outputs": [],
   "source": [
    "#renaming some columns for consistency\n",
    "df = df.rename(columns = {\"Imprint\":\"imprint\",\"Format\":\"format\",\"Rating\":\"rating\",\"Price\":\"price\"})"
   ]
  },
  {
   "cell_type": "code",
   "execution_count": 202,
   "id": "e8c9eb25",
   "metadata": {},
   "outputs": [
    {
     "name": "stdout",
     "output_type": "stream",
     "text": [
      "351696 / 419904 = 0.8375628715134888\n"
     ]
    }
   ],
   "source": [
    "df_size_1 = df.size\n",
    "\n",
    "df[\"issue_title\"] = df[\"issue_title\"].fillna(df[\"comic_name\"])\n",
    "df[\"penciler\"] = df[\"penciler\"].fillna(\"Unknown\")\n",
    "df[\"writer\"] = df[\"writer\"].fillna(\"Unknown\")\n",
    "df[\"cover_artist\"] = df[\"cover_artist\"].fillna(\"Unknown\")\n",
    "df[\"imprint\"] = df[\"imprint\"].fillna(\"None\")\n",
    "df[\"format\"] = df[\"format\"].fillna(\"None\")\n",
    "df[\"rating\"] = df[\"rating\"].fillna(\"No rating\")\n",
    "\n",
    "df = df[df[\"publish_date\"] != \"November 30, -0001\"]\n",
    "df[\"publish_date\"] = pd.to_datetime(df[\"publish_date\"])\n",
    "\n",
    "df = df.dropna()\n",
    "df_size_2 = df.size\n",
    "print(f\"{df_size_2} / {df_size_1} = {df_size_2/df_size_1}\")"
   ]
  },
  {
   "cell_type": "markdown",
   "id": "01e1e1d7",
   "metadata": {},
   "source": [
    "I noticed that the rating system was inconsistent for the ratings. I have changed it to become All Ages, A, T, T+, Parental Advisory, and then Explicit Content. This was a mess of combing all the ratings systmes from the wikipedia page. If multiple warnings were listed, the higher one was taken. Pluses automatically promoted the rating scale. No rating was given to any that said no rating, missing, or something along the lines of \"Not in Oracle\", which is likely a database issue on the side of the dataset creator."
   ]
  },
  {
   "cell_type": "code",
   "execution_count": 203,
   "id": "7bebd2e8",
   "metadata": {},
   "outputs": [
    {
     "data": {
      "text/plain": [
       "rating\n",
       "No rating            17048\n",
       "Rated T+              4323\n",
       "Rated T               3020\n",
       "Parental Advisory     2496\n",
       "All Ages              1173\n",
       "Rated A                898\n",
       "Explicit Content       350\n",
       "Name: count, dtype: int64"
      ]
     },
     "execution_count": 203,
     "metadata": {},
     "output_type": "execute_result"
    }
   ],
   "source": [
    "df[\"rating\"] = df[\"rating\"].str.strip()\n",
    "\n",
    "\n",
    "df.loc[df[\"rating\"] == \" ALL AGES\", \"rating\"] = \"All Ages\"\n",
    "df.loc[df[\"rating\"] == \"ALL AGES\", \"rating\"] = \"All Ages\"\n",
    "\n",
    "df.loc[df[\"rating\"] == \"RATED A\", \"rating\"] = \"Rated A\"\n",
    "df.loc[df[\"rating\"] == \"Rated a\", \"rating\"] = \"Rated A\"\n",
    "df.loc[df[\"rating\"] == \"A\", \"rating\"] = \"Rated A\"\n",
    "df.loc[df[\"rating\"] == \"Ages 10 & Up\", \"rating\"] = \"Rated A\"\n",
    "\n",
    "df.loc[df[\"rating\"] == \"T\", \"rating\"] = \"Rated T\"\n",
    "df.loc[df[\"rating\"] == \"RATED T\", \"rating\"] = \"Rated T\"\n",
    "\n",
    "df.loc[df[\"rating\"] == \"RATED T+\", \"rating\"] = \"Rated T+\"\n",
    "df.loc[df[\"rating\"] == \"T+\", \"rating\"] = \"Rated T+\"\n",
    "\n",
    "df.loc[df[\"rating\"] == \"Marvel Psr\", \"rating\"] = \"Parental Advisory\"\n",
    "df.loc[df[\"rating\"] == \"Marvel PSR\", \"rating\"] = \"Parental Advisory\"\n",
    "df.loc[df[\"rating\"] == \"MARVEL PSR\", \"rating\"] = \"Parental Advisory\"\n",
    "df.loc[df[\"rating\"] == \"PARENTAL ADVISORY\", \"rating\"] = \"Parental Advisory\"\n",
    "df.loc[df[\"rating\"] == \"Parental AdvisorySLC\", \"rating\"] = \"Parental Advisory\"\n",
    "df.loc[df[\"rating\"] == \"Parental Advisoryslc\", \"rating\"] = \"Parental Advisory\"\n",
    "df.loc[df[\"rating\"] == \"PARENTAL ADVISORYSLC\", \"rating\"] = \"Parental Advisory\"\n",
    "df.loc[df[\"rating\"] == \"PARENTAL SUPERVISION\", \"rating\"] = \"Parental Advisory\"\n",
    "df.loc[df[\"rating\"] == \"Parental Guidance\", \"rating\"] = \"Parental Advisory\"\n",
    "\n",
    "df.loc[df[\"rating\"] == \"EXPLICIT CONTENT\", \"rating\"] = \"Explicit Content\"\n",
    "df.loc[df[\"rating\"] == \"Parental Advisory/Explicit Content\", \"rating\"] = \"Explicit Content\"\n",
    "df.loc[df[\"rating\"] == \"PARENTAL ADVISORY/EXPLICIT CONTENT\", \"rating\"] = \"Explicit Content\"\n",
    "df.loc[df[\"rating\"] == \"Marvel Psr+\", \"rating\"] = \"Explicit Content\"\n",
    "df.loc[df[\"rating\"] == \"MARVEL PSR+\", \"rating\"] = \"Explicit Content\"\n",
    "df.loc[df[\"rating\"] == \"Mature\", \"rating\"] = \"Explicit Content\"\n",
    "df.loc[df[\"rating\"] == \"MAX\", \"rating\"] = \"Explicit Content\"\n",
    "df.loc[df[\"rating\"] == \"Max\", \"rating\"] = \"Explicit Content\"\n",
    "\n",
    "df.loc[df[\"rating\"] == \"No Rating\", \"rating\"] = \"No rating\"\n",
    "df.loc[df[\"rating\"] == \"NO RATING\", \"rating\"] = \"No rating\"\n",
    "df.loc[df[\"rating\"] == \"NOT IN ORACLE\", \"rating\"] = \"No rating\"\n",
    "df.loc[df[\"rating\"] == \"Not in Oracle\", \"rating\"] = \"No rating\"\n",
    "\n",
    "df[\"rating\"].value_counts()"
   ]
  },
  {
   "cell_type": "markdown",
   "id": "1d35c660",
   "metadata": {},
   "source": [
    "Additionally, as already completed to the Ratings, the format was a bit inconcistent. This data was better, however, with only simple capitalization missing from the data. Graphic novels were not combined with comic books as graphic novels are usually longer, as shown in this data set where the graphic novel is a collection of X-men comics from 2001 to 2004."
   ]
  },
  {
   "cell_type": "code",
   "execution_count": 204,
   "id": "e4202d38",
   "metadata": {},
   "outputs": [
    {
     "data": {
      "text/plain": [
       "format\n",
       "Comic              28389\n",
       "Digital Comic        304\n",
       "Infinite Comic       273\n",
       "Trade Paperback      204\n",
       "Hardcover             70\n",
       "Magazine              58\n",
       "Digest                 9\n",
       "Graphic Novel          1\n",
       "Name: count, dtype: int64"
      ]
     },
     "execution_count": 204,
     "metadata": {},
     "output_type": "execute_result"
    }
   ],
   "source": [
    "df[\"format\"] = df[\"format\"].str.strip()\n",
    "\n",
    "df.loc[df[\"format\"] == \"comic\", \"format\"] = \"Comic\"\n",
    "df.loc[df[\"format\"] == \"DIGITAL COMIC\", \"format\"] = \"Digital Comic\"\n",
    "df.loc[df[\"format\"] == \"MAGAZINE\", \"format\"] = \"Magazine\"\n",
    "\n",
    "df[\"format\"].value_counts()"
   ]
  },
  {
   "cell_type": "markdown",
   "id": "e64f8e75",
   "metadata": {},
   "source": [
    "Edited some formatting and mixed some classifications together for imprint. Imprint is the publisher of the comic book, and again, as before, the input is not consistent."
   ]
  },
  {
   "cell_type": "code",
   "execution_count": 205,
   "id": "f2d81954",
   "metadata": {},
   "outputs": [
    {
     "data": {
      "text/plain": [
       "imprint\n",
       "None                                   18203\n",
       "Marvel Universe                         8989\n",
       "Marvel Knights                           536\n",
       "Ultimate                                 395\n",
       "Marvel Adventures                        343\n",
       "MAX                                      118\n",
       "Ultimate Universe                        104\n",
       "ICON                                      87\n",
       "Licensed Publishing                       82\n",
       "Max                                       80\n",
       "Marvel Illustrated                        71\n",
       "ULTIMATE                                  51\n",
       "LICENSED PUBLISHING                       39\n",
       "New Universe                              37\n",
       "Timely / Atlas [Timely Publications       23\n",
       "Icon                                      21\n",
       "Custom                                    21\n",
       "Marvel Age                                20\n",
       "DABEL BROTHERS                            18\n",
       "ULTIMATE UNIVERSE                         16\n",
       "Outreach/New Reader                       14\n",
       "2099                                      12\n",
       "MARKETING                                  5\n",
       "Atlas [20th Century Comics Corp]           4\n",
       "Licenced Publishing                        3\n",
       "NOT IN ORACLE                              3\n",
       "LICENCED PUBLISHING                        3\n",
       "MARVEL ARCHIVE                             2\n",
       "Alterniverse                               2\n",
       "Marvel Archive                             2\n",
       "Atlas [Medalion Publishing Corp.]          2\n",
       "OUTREACH/NEW READER                        1\n",
       "ESSENTIALS                                 1\n",
       "Name: count, dtype: int64"
      ]
     },
     "execution_count": 205,
     "metadata": {},
     "output_type": "execute_result"
    }
   ],
   "source": [
    "df[\"imprint\"] = df[\"imprint\"].str.strip()\n",
    "\n",
    "df.loc[df[\"imprint\"] == \"MARVEL UNIVERSE\", \"imprint\"] = \"Marvel Universe\"\n",
    "df.loc[df[\"imprint\"] == \"MARVEL UNIVERS\", \"imprint\"] = \"Marvel Universe\"\n",
    "df.loc[df[\"imprint\"] == \"MARVEL KNIGHTS\", \"imprint\"] = \"Marvel Knights\"\n",
    "df.loc[df[\"imprint\"] == \"MARVEL ADVENTURES\", \"imprint\"] = \"Marvel Adventures\"\n",
    "df.loc[df[\"imprint\"] == \"MARVEL ILLUSTRATED\", \"imprint\"] = \"Marvel Illustrated\"\n",
    "df.loc[df[\"imprint\"] == \"Not in Oracle\", \"imprint\"] = \"None\"\n",
    "df.loc[df[\"imprint\"] == \"marvel age\", \"imprint\"] = \"Marvel Age\"\n",
    "\n",
    "\n",
    "df[\"imprint\"].value_counts()"
   ]
  },
  {
   "cell_type": "markdown",
   "id": "06c6e17a",
   "metadata": {},
   "source": [
    "Here I create a function to format the price into a float for easy classification and consistency. All prices havea dollar sign in front, unless it says free. "
   ]
  },
  {
   "cell_type": "code",
   "execution_count": 206,
   "id": "79eb8c79",
   "metadata": {},
   "outputs": [
    {
     "data": {
      "text/plain": [
       "price\n",
       "Free     12196\n",
       "$3.99     8191\n",
       "$2.99     5169\n",
       "$4.99     1005\n",
       "$1.00      385\n",
       "$2.25      295\n",
       "$9.99      161\n",
       "$2.50      148\n",
       "$5.99      132\n",
       "$0.75      125\n",
       "Name: count, dtype: int64"
      ]
     },
     "execution_count": 206,
     "metadata": {},
     "output_type": "execute_result"
    }
   ],
   "source": [
    "df[\"price\"].value_counts().head(10)"
   ]
  },
  {
   "cell_type": "code",
   "execution_count": 207,
   "id": "52fa167d",
   "metadata": {},
   "outputs": [],
   "source": [
    "def price_fix(price):\n",
    "    if price == \" Free\":\n",
    "        return 0.0\n",
    "    else:\n",
    "        price = price[2:]\n",
    "        return float(price)"
   ]
  },
  {
   "cell_type": "code",
   "execution_count": 208,
   "id": "fb517d12",
   "metadata": {},
   "outputs": [],
   "source": [
    "df[\"price\"] = df[\"price\"].apply(price_fix)"
   ]
  },
  {
   "cell_type": "code",
   "execution_count": 209,
   "id": "8ff97d45",
   "metadata": {},
   "outputs": [
    {
     "data": {
      "text/plain": [
       "price\n",
       "0.00    12196\n",
       "3.99     8191\n",
       "2.99     5169\n",
       "4.99     1005\n",
       "1.00      385\n",
       "2.25      295\n",
       "9.99      161\n",
       "2.50      148\n",
       "5.99      132\n",
       "0.75      125\n",
       "Name: count, dtype: int64"
      ]
     },
     "execution_count": 209,
     "metadata": {},
     "output_type": "execute_result"
    }
   ],
   "source": [
    "df[\"price\"].value_counts().head(10)"
   ]
  },
  {
   "cell_type": "markdown",
   "id": "743842a6",
   "metadata": {},
   "source": [
    "Here I change the publish date to pandas date time for easier graphing and convenience."
   ]
  },
  {
   "cell_type": "code",
   "execution_count": 210,
   "id": "cc9fca7e",
   "metadata": {},
   "outputs": [],
   "source": [
    "df[\"publish_dates\"] = pd.to_datetime(df[\"publish_date\"])"
   ]
  },
  {
   "cell_type": "markdown",
   "id": "d9375d4b",
   "metadata": {},
   "source": [
    "***Data Exploration***"
   ]
  },
  {
   "cell_type": "code",
   "execution_count": 211,
   "id": "08dec5fa",
   "metadata": {},
   "outputs": [
    {
     "data": {
      "image/png": "[encoded data removed]",
      "text/plain": [
       "<Figure size 640x480 with 1 Axes>"
      ]
     },
     "metadata": {},
     "output_type": "display_data"
    }
   ],
   "source": [
    "writer_counts = df[\"writer\"].value_counts()\n",
    "writer_counts = writer_counts[:10]\n",
    "\n",
    "sns.set_theme(style = \"darkgrid\")\n",
    "sns.barplot(x = writer_counts, y = writer_counts.index, hue = writer_counts.index)\n",
    "plt.xlabel(\"Comics Written\")\n",
    "plt.ylabel(\"Writer Name\")\n",
    "plt.tight_layout()\n",
    "plt.show()"
   ]
  },
  {
   "cell_type": "code",
   "execution_count": 212,
   "id": "78270b73",
   "metadata": {},
   "outputs": [
    {
     "data": {
      "image/png": "[encoded data removed]",
      "text/plain": [
       "<Figure size 500x500 with 1 Axes>"
      ]
     },
     "metadata": {},
     "output_type": "display_data"
    }
   ],
   "source": [
    "date_counts = df[\"publish_date\"]\n",
    "date_counts = date_counts.dt.year.value_counts()\n",
    "\n",
    "sns.relplot(x = date_counts.index, y = date_counts,kind = \"line\")\n",
    "plt.title(\"Comics released per year\")\n",
    "plt.show()"
   ]
  },
  {
   "cell_type": "code",
   "execution_count": 213,
   "id": "82885b7d",
   "metadata": {},
   "outputs": [
    {
     "data": {
      "image/png": "[encoded data removed]",
      "text/plain": [
       "<Figure size 640x480 with 1 Axes>"
      ]
     },
     "metadata": {},
     "output_type": "display_data"
    }
   ],
   "source": [
    "rating_counts = df[\"rating\"].value_counts()\n",
    "\n",
    "palette_color = sns.color_palette('pastel')\n",
    "plt.pie(rating_counts, labels=rating_counts.index, colors=palette_color, autopct='%.0f%%')\n",
    "plt.title(\"Distribution of Comic Ratings\")\n",
    "plt.show()"
   ]
  },
  {
   "cell_type": "markdown",
   "id": "32379ed3",
   "metadata": {},
   "source": [
    "***Turning Into a CSV***"
   ]
  },
  {
   "cell_type": "code",
   "execution_count": 215,
   "id": "e490b0b9",
   "metadata": {},
   "outputs": [
    {
     "data": {
      "text/html": [
       "<div>\n",
       "<style scoped>\n",
       "    .dataframe tbody tr th:only-of-type {\n",
       "        vertical-align: middle;\n",
       "    }\n",
       "\n",
       "    .dataframe tbody tr th {\n",
       "        vertical-align: top;\n",
       "    }\n",
       "\n",
       "    .dataframe thead th {\n",
       "        text-align: right;\n",
       "    }\n",
       "</style>\n",
       "<table border=\"1\" class=\"dataframe\">\n",
       "  <thead>\n",
       "    <tr style=\"text-align: right;\">\n",
       "      <th></th>\n",
       "      <th>comic_name</th>\n",
       "      <th>active_years</th>\n",
       "      <th>issue_title</th>\n",
       "      <th>publish_date</th>\n",
       "      <th>issue_description</th>\n",
       "      <th>penciler</th>\n",
       "      <th>writer</th>\n",
       "      <th>cover_artist</th>\n",
       "      <th>imprint</th>\n",
       "      <th>format</th>\n",
       "      <th>rating</th>\n",
       "      <th>price</th>\n",
       "      <th>publish_dates</th>\n",
       "    </tr>\n",
       "  </thead>\n",
       "  <tbody>\n",
       "    <tr>\n",
       "      <th>0</th>\n",
       "      <td>A Year of Marvels: April Infinite Comic (2016)</td>\n",
       "      <td>(2016)</td>\n",
       "      <td>A Year of Marvels: April Infinite Comic (2016) #1</td>\n",
       "      <td>2016-04-01</td>\n",
       "      <td>The Infinite Comic that will have everyone tal...</td>\n",
       "      <td>Yves Bigerel</td>\n",
       "      <td>Yves Bigerel</td>\n",
       "      <td>Jamal Campbell</td>\n",
       "      <td>Marvel Universe</td>\n",
       "      <td>Infinite Comic</td>\n",
       "      <td>Rated T+</td>\n",
       "      <td>0.00</td>\n",
       "      <td>2016-04-01</td>\n",
       "    </tr>\n",
       "    <tr>\n",
       "      <th>1</th>\n",
       "      <td>A Year of Marvels: August Infinite Comic (2016)</td>\n",
       "      <td>(2016)</td>\n",
       "      <td>A Year of Marvels: August Infinite Comic (2016...</td>\n",
       "      <td>2016-08-10</td>\n",
       "      <td>It’s August, and Nick Fury is just in time to ...</td>\n",
       "      <td>Jamal Campbell</td>\n",
       "      <td>Chris Sims, Chad Bowers</td>\n",
       "      <td>Unknown</td>\n",
       "      <td>Marvel Universe</td>\n",
       "      <td>Infinite Comic</td>\n",
       "      <td>No rating</td>\n",
       "      <td>0.00</td>\n",
       "      <td>2016-08-10</td>\n",
       "    </tr>\n",
       "    <tr>\n",
       "      <th>2</th>\n",
       "      <td>A Year of Marvels: February Infinite Comic (2016)</td>\n",
       "      <td>(2016)</td>\n",
       "      <td>A Year of Marvels: February Infinite Comic (20...</td>\n",
       "      <td>2016-02-10</td>\n",
       "      <td>Join us in a brand new Marvel comics adventure...</td>\n",
       "      <td>Danilo S. Beyruth, M Mast</td>\n",
       "      <td>Ryan North</td>\n",
       "      <td>Unknown</td>\n",
       "      <td>Marvel Universe</td>\n",
       "      <td>Infinite Comic</td>\n",
       "      <td>Rated T+</td>\n",
       "      <td>0.00</td>\n",
       "      <td>2016-02-10</td>\n",
       "    </tr>\n",
       "    <tr>\n",
       "      <th>3</th>\n",
       "      <td>A Year of Marvels: July Infinite Comic (2016)</td>\n",
       "      <td>(2016)</td>\n",
       "      <td>A Year of Marvels: July Infinite Comic (2016) #1</td>\n",
       "      <td>2016-06-29</td>\n",
       "      <td>Celebrating the Fourth of July is complicated ...</td>\n",
       "      <td>Juanan Ramirez</td>\n",
       "      <td>Chuck Wendig</td>\n",
       "      <td>Jamal Campbell</td>\n",
       "      <td>Marvel Universe</td>\n",
       "      <td>Infinite Comic</td>\n",
       "      <td>No rating</td>\n",
       "      <td>0.00</td>\n",
       "      <td>2016-06-29</td>\n",
       "    </tr>\n",
       "    <tr>\n",
       "      <th>4</th>\n",
       "      <td>A Year of Marvels: June Infinite Comic (2016)</td>\n",
       "      <td>(2016)</td>\n",
       "      <td>A Year of Marvels: June Infinite Comic (2016) #1</td>\n",
       "      <td>2016-06-15</td>\n",
       "      <td>Sam Alexander’s finding it hard to cope with t...</td>\n",
       "      <td>Diego Olortegui</td>\n",
       "      <td>Paul Allor</td>\n",
       "      <td>Jamal Campbell</td>\n",
       "      <td>Marvel Universe</td>\n",
       "      <td>Infinite Comic</td>\n",
       "      <td>No rating</td>\n",
       "      <td>0.00</td>\n",
       "      <td>2016-06-15</td>\n",
       "    </tr>\n",
       "    <tr>\n",
       "      <th>...</th>\n",
       "      <td>...</td>\n",
       "      <td>...</td>\n",
       "      <td>...</td>\n",
       "      <td>...</td>\n",
       "      <td>...</td>\n",
       "      <td>...</td>\n",
       "      <td>...</td>\n",
       "      <td>...</td>\n",
       "      <td>...</td>\n",
       "      <td>...</td>\n",
       "      <td>...</td>\n",
       "      <td>...</td>\n",
       "      <td>...</td>\n",
       "    </tr>\n",
       "    <tr>\n",
       "      <th>34987</th>\n",
       "      <td>Ziggy Pig - Silly Seal Comics (2019)</td>\n",
       "      <td>(2019)</td>\n",
       "      <td>Ziggy Pig - Silly Seal Comics (2019) #1</td>\n",
       "      <td>2019-03-06</td>\n",
       "      <td>NOT SO FUNNY WHEN IT HAPPENS TO YOU? Once they...</td>\n",
       "      <td>Jacob Chabot</td>\n",
       "      <td>John Cerilli, Frank Tieri</td>\n",
       "      <td>Nic Klein</td>\n",
       "      <td>Marvel Universe</td>\n",
       "      <td>Comic</td>\n",
       "      <td>Parental Advisory</td>\n",
       "      <td>3.99</td>\n",
       "      <td>2019-03-06</td>\n",
       "    </tr>\n",
       "    <tr>\n",
       "      <th>34988</th>\n",
       "      <td>Zombie (2006)</td>\n",
       "      <td>(2006)</td>\n",
       "      <td>Zombie (2006) #4</td>\n",
       "      <td>2006-12-20</td>\n",
       "      <td>With a thousand zombies in front of him and tw...</td>\n",
       "      <td>Kyle Hotz</td>\n",
       "      <td>Mike Raicht</td>\n",
       "      <td>Kyle Hotz</td>\n",
       "      <td>MAX</td>\n",
       "      <td>Comic</td>\n",
       "      <td>Explicit Content</td>\n",
       "      <td>3.99</td>\n",
       "      <td>2006-12-20</td>\n",
       "    </tr>\n",
       "    <tr>\n",
       "      <th>34989</th>\n",
       "      <td>Zombie (2006)</td>\n",
       "      <td>(2006)</td>\n",
       "      <td>Zombie (2006) #3</td>\n",
       "      <td>2006-11-29</td>\n",
       "      <td>The hordes of zombies gathered outside the hig...</td>\n",
       "      <td>Kyle Hotz</td>\n",
       "      <td>Mike Raicht</td>\n",
       "      <td>Kyle Hotz</td>\n",
       "      <td>MAX</td>\n",
       "      <td>Comic</td>\n",
       "      <td>Explicit Content</td>\n",
       "      <td>3.99</td>\n",
       "      <td>2006-11-29</td>\n",
       "    </tr>\n",
       "    <tr>\n",
       "      <th>34990</th>\n",
       "      <td>Zombie (2006)</td>\n",
       "      <td>(2006)</td>\n",
       "      <td>Zombie (2006) #2</td>\n",
       "      <td>2006-10-25</td>\n",
       "      <td>For Simon Garth, it's come down to two very ba...</td>\n",
       "      <td>Kyle Hotz</td>\n",
       "      <td>Mike Raicht</td>\n",
       "      <td>Kyle Hotz</td>\n",
       "      <td>MAX</td>\n",
       "      <td>Comic</td>\n",
       "      <td>Explicit Content</td>\n",
       "      <td>3.99</td>\n",
       "      <td>2006-10-25</td>\n",
       "    </tr>\n",
       "    <tr>\n",
       "      <th>34991</th>\n",
       "      <td>Zombie (2006)</td>\n",
       "      <td>(2006)</td>\n",
       "      <td>Zombie (2006) #1</td>\n",
       "      <td>2006-09-27</td>\n",
       "      <td>Cash stolen from the botched bank job: $125,00...</td>\n",
       "      <td>Kyle Hotz</td>\n",
       "      <td>Mike Raicht</td>\n",
       "      <td>Kyle Hotz</td>\n",
       "      <td>MAX</td>\n",
       "      <td>Comic</td>\n",
       "      <td>Explicit Content</td>\n",
       "      <td>3.99</td>\n",
       "      <td>2006-09-27</td>\n",
       "    </tr>\n",
       "  </tbody>\n",
       "</table>\n",
       "<p>29308 rows × 13 columns</p>\n",
       "</div>"
      ],
      "text/plain": [
       "                                              comic_name active_years  \\\n",
       "0         A Year of Marvels: April Infinite Comic (2016)       (2016)   \n",
       "1        A Year of Marvels: August Infinite Comic (2016)       (2016)   \n",
       "2      A Year of Marvels: February Infinite Comic (2016)       (2016)   \n",
       "3          A Year of Marvels: July Infinite Comic (2016)       (2016)   \n",
       "4          A Year of Marvels: June Infinite Comic (2016)       (2016)   \n",
       "...                                                  ...          ...   \n",
       "34987               Ziggy Pig - Silly Seal Comics (2019)       (2019)   \n",
       "34988                                      Zombie (2006)       (2006)   \n",
       "34989                                      Zombie (2006)       (2006)   \n",
       "34990                                      Zombie (2006)       (2006)   \n",
       "34991                                      Zombie (2006)       (2006)   \n",
       "\n",
       "                                             issue_title publish_date  \\\n",
       "0      A Year of Marvels: April Infinite Comic (2016) #1   2016-04-01   \n",
       "1      A Year of Marvels: August Infinite Comic (2016...   2016-08-10   \n",
       "2      A Year of Marvels: February Infinite Comic (20...   2016-02-10   \n",
       "3       A Year of Marvels: July Infinite Comic (2016) #1   2016-06-29   \n",
       "4       A Year of Marvels: June Infinite Comic (2016) #1   2016-06-15   \n",
       "...                                                  ...          ...   \n",
       "34987            Ziggy Pig - Silly Seal Comics (2019) #1   2019-03-06   \n",
       "34988                                   Zombie (2006) #4   2006-12-20   \n",
       "34989                                   Zombie (2006) #3   2006-11-29   \n",
       "34990                                   Zombie (2006) #2   2006-10-25   \n",
       "34991                                   Zombie (2006) #1   2006-09-27   \n",
       "\n",
       "                                       issue_description  \\\n",
       "0      The Infinite Comic that will have everyone tal...   \n",
       "1      It’s August, and Nick Fury is just in time to ...   \n",
       "2      Join us in a brand new Marvel comics adventure...   \n",
       "3      Celebrating the Fourth of July is complicated ...   \n",
       "4      Sam Alexander’s finding it hard to cope with t...   \n",
       "...                                                  ...   \n",
       "34987  NOT SO FUNNY WHEN IT HAPPENS TO YOU? Once they...   \n",
       "34988  With a thousand zombies in front of him and tw...   \n",
       "34989  The hordes of zombies gathered outside the hig...   \n",
       "34990  For Simon Garth, it's come down to two very ba...   \n",
       "34991  Cash stolen from the botched bank job: $125,00...   \n",
       "\n",
       "                        penciler                     writer    cover_artist  \\\n",
       "0                   Yves Bigerel               Yves Bigerel  Jamal Campbell   \n",
       "1                 Jamal Campbell    Chris Sims, Chad Bowers         Unknown   \n",
       "2      Danilo S. Beyruth, M Mast                 Ryan North         Unknown   \n",
       "3                 Juanan Ramirez               Chuck Wendig  Jamal Campbell   \n",
       "4                Diego Olortegui                 Paul Allor  Jamal Campbell   \n",
       "...                          ...                        ...             ...   \n",
       "34987               Jacob Chabot  John Cerilli, Frank Tieri       Nic Klein   \n",
       "34988                  Kyle Hotz                Mike Raicht       Kyle Hotz   \n",
       "34989                  Kyle Hotz                Mike Raicht       Kyle Hotz   \n",
       "34990                  Kyle Hotz                Mike Raicht       Kyle Hotz   \n",
       "34991                  Kyle Hotz                Mike Raicht       Kyle Hotz   \n",
       "\n",
       "               imprint          format             rating  price publish_dates  \n",
       "0      Marvel Universe  Infinite Comic           Rated T+   0.00    2016-04-01  \n",
       "1      Marvel Universe  Infinite Comic          No rating   0.00    2016-08-10  \n",
       "2      Marvel Universe  Infinite Comic           Rated T+   0.00    2016-02-10  \n",
       "3      Marvel Universe  Infinite Comic          No rating   0.00    2016-06-29  \n",
       "4      Marvel Universe  Infinite Comic          No rating   0.00    2016-06-15  \n",
       "...                ...             ...                ...    ...           ...  \n",
       "34987  Marvel Universe           Comic  Parental Advisory   3.99    2019-03-06  \n",
       "34988              MAX           Comic   Explicit Content   3.99    2006-12-20  \n",
       "34989              MAX           Comic   Explicit Content   3.99    2006-11-29  \n",
       "34990              MAX           Comic   Explicit Content   3.99    2006-10-25  \n",
       "34991              MAX           Comic   Explicit Content   3.99    2006-09-27  \n",
       "\n",
       "[29308 rows x 13 columns]"
      ]
     },
     "execution_count": 215,
     "metadata": {},
     "output_type": "execute_result"
    }
   ],
   "source": [
    "df"
   ]
  },
  {
   "cell_type": "code",
   "execution_count": 214,
   "id": "fcf47d79",
   "metadata": {},
   "outputs": [],
   "source": [
    "df.to_csv('fixed_comics.csv', index=False)"
   ]
  }
 ],
 "metadata": {
  "kernelspec": {
   "display_name": "Python 3",
   "language": "python",
   "name": "python3"
  },
  "language_info": {
   "codemirror_mode": {
    "name": "ipython",
    "version": 3
   },
   "file_extension": ".py",
   "mimetype": "text/x-python",
   "name": "python",
   "nbconvert_exporter": "python",
   "pygments_lexer": "ipython3",
   "version": "3.12.10"
  }
 },
 "nbformat": 4,
 "nbformat_minor": 5
}
