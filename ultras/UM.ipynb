{
 "cells": [
  {
   "cell_type": "code",
   "execution_count": 1,
   "metadata": {},
   "outputs": [
    {
     "name": "stdout",
     "output_type": "stream",
     "text": [
      "Packages have been imported correctly\n"
     ]
    }
   ],
   "source": [
    "import pandas as pd\n",
    "print(\"Packages have been imported correctly\")"
   ]
  },
  {
   "cell_type": "code",
   "execution_count": null,
   "metadata": {},
   "outputs": [],
   "source": [
    "data = pd.read_csv(\"UltraMarathon.csv\")\n",
    "print(data.info())\n",
    "print(data.columns)"
   ]
  },
  {
   "cell_type": "code",
   "execution_count": null,
   "metadata": {},
   "outputs": [
    {
     "data": {
      "text/html": [
       "<div>\n",
       "<style scoped>\n",
       "    .dataframe tbody tr th:only-of-type {\n",
       "        vertical-align: middle;\n",
       "    }\n",
       "\n",
       "    .dataframe tbody tr th {\n",
       "        vertical-align: top;\n",
       "    }\n",
       "\n",
       "    .dataframe thead th {\n",
       "        text-align: right;\n",
       "    }\n",
       "</style>\n",
       "<table border=\"1\" class=\"dataframe\">\n",
       "  <thead>\n",
       "    <tr style=\"text-align: right;\">\n",
       "      <th></th>\n",
       "      <th>Year of event</th>\n",
       "      <th>Event dates</th>\n",
       "      <th>Event name</th>\n",
       "      <th>Event distance/length</th>\n",
       "      <th>Event number of finishers</th>\n",
       "      <th>Athlete performance</th>\n",
       "      <th>Athlete club</th>\n",
       "      <th>Athlete country</th>\n",
       "      <th>Athlete year of birth</th>\n",
       "      <th>Athlete gender</th>\n",
       "      <th>Athlete age category</th>\n",
       "      <th>Athlete average speed</th>\n",
       "      <th>Athlete ID</th>\n",
       "    </tr>\n",
       "  </thead>\n",
       "  <tbody>\n",
       "    <tr>\n",
       "      <th>6018425</th>\n",
       "      <td>2014</td>\n",
       "      <td>29.-31.03.2014</td>\n",
       "      <td>The Barkley Marathons 100 Mile (USA)</td>\n",
       "      <td>100mi</td>\n",
       "      <td>1</td>\n",
       "      <td>2d 09:53:20 h</td>\n",
       "      <td>*UT</td>\n",
       "      <td>USA</td>\n",
       "      <td>1979.0</td>\n",
       "      <td>M</td>\n",
       "      <td>M23</td>\n",
       "      <td>2.78</td>\n",
       "      <td>385304</td>\n",
       "    </tr>\n",
       "    <tr>\n",
       "      <th>1114826</th>\n",
       "      <td>2016</td>\n",
       "      <td>28.08.2016</td>\n",
       "      <td>Almaden Hills Trail Run - Fall (USA)</td>\n",
       "      <td>50km</td>\n",
       "      <td>1</td>\n",
       "      <td>6:09:10 h</td>\n",
       "      <td>NaN</td>\n",
       "      <td>USA</td>\n",
       "      <td>1968.0</td>\n",
       "      <td>M</td>\n",
       "      <td>M45</td>\n",
       "      <td>8.126</td>\n",
       "      <td>25631</td>\n",
       "    </tr>\n",
       "    <tr>\n",
       "      <th>3216761</th>\n",
       "      <td>2022</td>\n",
       "      <td>03.04.2022</td>\n",
       "      <td>TDR Trail Trashed 50K Sunday (USA)</td>\n",
       "      <td>50km</td>\n",
       "      <td>1</td>\n",
       "      <td>8:16:25 h</td>\n",
       "      <td>*North Las Vegas, NV</td>\n",
       "      <td>USA</td>\n",
       "      <td>1991.0</td>\n",
       "      <td>M</td>\n",
       "      <td>M23</td>\n",
       "      <td>6.043</td>\n",
       "      <td>962057</td>\n",
       "    </tr>\n",
       "    <tr>\n",
       "      <th>4297072</th>\n",
       "      <td>2005</td>\n",
       "      <td>13.02.2005</td>\n",
       "      <td>USATF National Championships Clermont (USA)</td>\n",
       "      <td>50km</td>\n",
       "      <td>1</td>\n",
       "      <td>4:09:35 h</td>\n",
       "      <td>NaN</td>\n",
       "      <td>USA</td>\n",
       "      <td>1967.0</td>\n",
       "      <td>M</td>\n",
       "      <td>M35</td>\n",
       "      <td>12.02</td>\n",
       "      <td>861399</td>\n",
       "    </tr>\n",
       "    <tr>\n",
       "      <th>7259397</th>\n",
       "      <td>1991</td>\n",
       "      <td>29.09.1991</td>\n",
       "      <td>Six Hour Fall Fantasy (USA)</td>\n",
       "      <td>6h</td>\n",
       "      <td>1</td>\n",
       "      <td>48.280 km</td>\n",
       "      <td>NaN</td>\n",
       "      <td>USA</td>\n",
       "      <td>1947.0</td>\n",
       "      <td>M</td>\n",
       "      <td>M40</td>\n",
       "      <td>8047.0</td>\n",
       "      <td>1569808</td>\n",
       "    </tr>\n",
       "  </tbody>\n",
       "</table>\n",
       "</div>"
      ],
      "text/plain": [
       "         Year of event     Event dates  \\\n",
       "6018425           2014  29.-31.03.2014   \n",
       "1114826           2016      28.08.2016   \n",
       "3216761           2022      03.04.2022   \n",
       "4297072           2005      13.02.2005   \n",
       "7259397           1991      29.09.1991   \n",
       "\n",
       "                                          Event name Event distance/length  \\\n",
       "6018425         The Barkley Marathons 100 Mile (USA)                 100mi   \n",
       "1114826         Almaden Hills Trail Run - Fall (USA)                  50km   \n",
       "3216761           TDR Trail Trashed 50K Sunday (USA)                  50km   \n",
       "4297072  USATF National Championships Clermont (USA)                  50km   \n",
       "7259397                  Six Hour Fall Fantasy (USA)                    6h   \n",
       "\n",
       "         Event number of finishers Athlete performance          Athlete club  \\\n",
       "6018425                          1       2d 09:53:20 h                   *UT   \n",
       "1114826                          1           6:09:10 h                   NaN   \n",
       "3216761                          1           8:16:25 h  *North Las Vegas, NV   \n",
       "4297072                          1           4:09:35 h                   NaN   \n",
       "7259397                          1           48.280 km                   NaN   \n",
       "\n",
       "        Athlete country  Athlete year of birth Athlete gender  \\\n",
       "6018425             USA                 1979.0              M   \n",
       "1114826             USA                 1968.0              M   \n",
       "3216761             USA                 1991.0              M   \n",
       "4297072             USA                 1967.0              M   \n",
       "7259397             USA                 1947.0              M   \n",
       "\n",
       "        Athlete age category Athlete average speed  Athlete ID  \n",
       "6018425                  M23                  2.78      385304  \n",
       "1114826                  M45                 8.126       25631  \n",
       "3216761                  M23                 6.043      962057  \n",
       "4297072                  M35                 12.02      861399  \n",
       "7259397                  M40                8047.0     1569808  "
      ]
     },
     "execution_count": 4,
     "metadata": {},
     "output_type": "execute_result"
    }
   ],
   "source": [
    "finisher_sorted = data.sort_values(by = \"Event number of finishers\")\n",
    "some_finisher_sorted = finisher_sorted[finisher_sorted['Event number of finishers'] != 0]\n",
    "some_finisher_sorted.head()"
   ]
  },
  {
   "cell_type": "code",
   "execution_count": null,
   "metadata": {},
   "outputs": [
    {
     "data": {
      "text/plain": [
       "Event number of finishers\n",
       "0           10\n",
       "1         1609\n",
       "2         3542\n",
       "3         5184\n",
       "4         7128\n",
       "         ...  \n",
       "14339    14339\n",
       "14603    14603\n",
       "16448    16448\n",
       "16484    16484\n",
       "20027    20027\n",
       "Name: count, Length: 1453, dtype: int64"
      ]
     },
     "execution_count": 5,
     "metadata": {},
     "output_type": "execute_result"
    }
   ],
   "source": [
    "finisher_sorted_counts = finisher_sorted['Event number of finishers'].value_counts()\n",
    "finisher_sorted_counts.sort_index()"
   ]
  },
  {
   "cell_type": "code",
   "execution_count": null,
   "metadata": {},
   "outputs": [
    {
     "data": {
      "image/png": "[encoded data removed]",
      "text/plain": [
       "<Figure size 640x480 with 1 Axes>"
      ]
     },
     "metadata": {},
     "output_type": "display_data"
    }
   ],
   "source": [
    "#visualizing the data\n",
    "import seaborn as sns\n",
    "import matplotlib.pyplot as plt\n",
    "\n",
    "sns.barplot(x = finisher_sorted_counts.index, \n",
    "            y = finisher_sorted_counts.values)\n",
    "\n",
    "plt.title(\"Frequency of Finishers\")\n",
    "plt.xlabel(\"Number of Finishers\")\n",
    "plt.ylabel(\"Counts\")\n",
    "\n",
    "plt.show()"
   ]
  },
  {
   "cell_type": "code",
   "execution_count": null,
   "metadata": {},
   "outputs": [
    {
     "data": {
      "text/plain": [
       "Year of event  Event dates     Event name                                 Event distance/length  Event number of finishers  Athlete performance  Athlete club               Athlete country  Athlete year of birth  Athlete gender  Athlete age category  Athlete average speed  Athlete ID\n",
       "2022           03.-05.06.2022  Ultra trail Dinarides - King's Race (CRO)  168km                  0                          26:12:53 h           Zagrebačka Treking ŠKo...  CRO              1982.0                 M               M35                   6.409                  125026        1\n",
       "                                                                                                                            27:11:32 h           HPD Mosor Sikire           CRO              1985.0                 M               M35                   6.178                  968932        1\n",
       "                                                                                                                            27:55:44 h           Top4Running/The North ...  CZE              1997.0                 M               M23                   6.015                  300598        1\n",
       "                                                                                                                            32:09:01 h           DRK ŠIjanska               CRO              1989.0                 M               M23                   5.225                  129291        1\n",
       "                                                                                                                            40:09:34 h           AK Velebit 2001 Jahači...  CRO              1978.0                 M               M40                   4.183                  285387        1\n",
       "                                                                                                                            45:42:27 h           Olimpik Umag               CRO              1984.0                 F               W35                   3.676                  899084        1\n",
       "                                                                                                                            45:42:28 h           Notranjsko Primorske N...  SLO              1960.0                 M               M60                   3.676                  129526        1\n",
       "Name: count, dtype: int64"
      ]
     },
     "execution_count": 7,
     "metadata": {},
     "output_type": "execute_result"
    }
   ],
   "source": [
    "no_finisher_sorted = finisher_sorted[finisher_sorted['Event number of finishers'] == 0]\n",
    "no_finisher_sorted.value_counts()"
   ]
  },
  {
   "cell_type": "markdown",
   "metadata": {},
   "source": [
    "I feel it might be kinda useless to get the amount of winners/complete as the data set focuses repeats the data set for each winner. Will instead focus on the individual racers"
   ]
  },
  {
   "cell_type": "code",
   "execution_count": null,
   "metadata": {},
   "outputs": [
    {
     "data": {
      "text/html": [
       "<div>\n",
       "<style scoped>\n",
       "    .dataframe tbody tr th:only-of-type {\n",
       "        vertical-align: middle;\n",
       "    }\n",
       "\n",
       "    .dataframe tbody tr th {\n",
       "        vertical-align: top;\n",
       "    }\n",
       "\n",
       "    .dataframe thead th {\n",
       "        text-align: right;\n",
       "    }\n",
       "</style>\n",
       "<table border=\"1\" class=\"dataframe\">\n",
       "  <thead>\n",
       "    <tr style=\"text-align: right;\">\n",
       "      <th></th>\n",
       "      <th>Year of event</th>\n",
       "      <th>Event dates</th>\n",
       "      <th>Event name</th>\n",
       "      <th>Event distance/length</th>\n",
       "      <th>Event number of finishers</th>\n",
       "      <th>Athlete performance</th>\n",
       "      <th>Athlete club</th>\n",
       "      <th>Athlete country</th>\n",
       "      <th>Athlete year of birth</th>\n",
       "      <th>Athlete gender</th>\n",
       "      <th>Athlete age category</th>\n",
       "      <th>Athlete average speed</th>\n",
       "      <th>Athlete ID</th>\n",
       "    </tr>\n",
       "  </thead>\n",
       "  <tbody>\n",
       "    <tr>\n",
       "      <th>0</th>\n",
       "      <td>2018</td>\n",
       "      <td>06.01.2018</td>\n",
       "      <td>Selva Costera (CHI)</td>\n",
       "      <td>50km</td>\n",
       "      <td>22</td>\n",
       "      <td>4:51:39 h</td>\n",
       "      <td>Tnfrc</td>\n",
       "      <td>CHI</td>\n",
       "      <td>1978.0</td>\n",
       "      <td>M</td>\n",
       "      <td>M35</td>\n",
       "      <td>10.286</td>\n",
       "      <td>0</td>\n",
       "    </tr>\n",
       "    <tr>\n",
       "      <th>1871489</th>\n",
       "      <td>2019</td>\n",
       "      <td>05.01.2019</td>\n",
       "      <td>Selva Costera (CHI)</td>\n",
       "      <td>50km</td>\n",
       "      <td>32</td>\n",
       "      <td>4:25:18 h</td>\n",
       "      <td>NaN</td>\n",
       "      <td>CHI</td>\n",
       "      <td>1978.0</td>\n",
       "      <td>M</td>\n",
       "      <td>M40</td>\n",
       "      <td>11.308</td>\n",
       "      <td>0</td>\n",
       "    </tr>\n",
       "    <tr>\n",
       "      <th>773176</th>\n",
       "      <td>2016</td>\n",
       "      <td>15.-16.04.2016</td>\n",
       "      <td>Ultra Fiord Patagonia Chile 50km (CHI)</td>\n",
       "      <td>47km</td>\n",
       "      <td>140</td>\n",
       "      <td>5:20:24 h</td>\n",
       "      <td>NaN</td>\n",
       "      <td>CHI</td>\n",
       "      <td>1978.0</td>\n",
       "      <td>M</td>\n",
       "      <td>M35</td>\n",
       "      <td>8.801</td>\n",
       "      <td>0</td>\n",
       "    </tr>\n",
       "    <tr>\n",
       "      <th>129954</th>\n",
       "      <td>2018</td>\n",
       "      <td>21.04.2018</td>\n",
       "      <td>Corralco Challenge (CHI)</td>\n",
       "      <td>70km</td>\n",
       "      <td>47</td>\n",
       "      <td>7:32:55 h</td>\n",
       "      <td>NaN</td>\n",
       "      <td>CHI</td>\n",
       "      <td>1981.0</td>\n",
       "      <td>M</td>\n",
       "      <td>M35</td>\n",
       "      <td>9.273</td>\n",
       "      <td>1</td>\n",
       "    </tr>\n",
       "    <tr>\n",
       "      <th>2333815</th>\n",
       "      <td>2019</td>\n",
       "      <td>07.-08.09.2019</td>\n",
       "      <td>La Gran Travesía (CHI)</td>\n",
       "      <td>100km</td>\n",
       "      <td>69</td>\n",
       "      <td>15:04:21 h</td>\n",
       "      <td>NaN</td>\n",
       "      <td>CHI</td>\n",
       "      <td>1981.0</td>\n",
       "      <td>M</td>\n",
       "      <td>M35</td>\n",
       "      <td>6.635</td>\n",
       "      <td>1</td>\n",
       "    </tr>\n",
       "  </tbody>\n",
       "</table>\n",
       "</div>"
      ],
      "text/plain": [
       "         Year of event     Event dates  \\\n",
       "0                 2018      06.01.2018   \n",
       "1871489           2019      05.01.2019   \n",
       "773176            2016  15.-16.04.2016   \n",
       "129954            2018      21.04.2018   \n",
       "2333815           2019  07.-08.09.2019   \n",
       "\n",
       "                                     Event name Event distance/length  \\\n",
       "0                           Selva Costera (CHI)                  50km   \n",
       "1871489                     Selva Costera (CHI)                  50km   \n",
       "773176   Ultra Fiord Patagonia Chile 50km (CHI)                  47km   \n",
       "129954                 Corralco Challenge (CHI)                  70km   \n",
       "2333815                  La Gran Travesía (CHI)                 100km   \n",
       "\n",
       "         Event number of finishers Athlete performance Athlete club  \\\n",
       "0                               22           4:51:39 h        Tnfrc   \n",
       "1871489                         32           4:25:18 h          NaN   \n",
       "773176                         140           5:20:24 h          NaN   \n",
       "129954                          47           7:32:55 h          NaN   \n",
       "2333815                         69          15:04:21 h          NaN   \n",
       "\n",
       "        Athlete country  Athlete year of birth Athlete gender  \\\n",
       "0                   CHI                 1978.0              M   \n",
       "1871489             CHI                 1978.0              M   \n",
       "773176              CHI                 1978.0              M   \n",
       "129954              CHI                 1981.0              M   \n",
       "2333815             CHI                 1981.0              M   \n",
       "\n",
       "        Athlete age category Athlete average speed  Athlete ID  \n",
       "0                        M35                10.286           0  \n",
       "1871489                  M40                11.308           0  \n",
       "773176                   M35                 8.801           0  \n",
       "129954                   M35                 9.273           1  \n",
       "2333815                  M35                 6.635           1  "
      ]
     },
     "execution_count": 8,
     "metadata": {},
     "output_type": "execute_result"
    }
   ],
   "source": [
    "athlete_data = data.sort_values(by = \"Athlete ID\")\n",
    "athlete_data.head()\n"
   ]
  },
  {
   "cell_type": "code",
   "execution_count": null,
   "metadata": {},
   "outputs": [
    {
     "data": {
      "text/plain": [
       "Athlete ID\n",
       "4033      1783\n",
       "236        873\n",
       "3977       640\n",
       "39253      541\n",
       "10408      539\n",
       "          ... \n",
       "237170       1\n",
       "237169       1\n",
       "237168       1\n",
       "237167       1\n",
       "237185       1\n",
       "Name: count, Length: 1641168, dtype: int64"
      ]
     },
     "execution_count": 9,
     "metadata": {},
     "output_type": "execute_result"
    }
   ],
   "source": [
    "#athlete that competed and finished the most\n",
    "athlete_data.value_counts(\"Athlete ID\")"
   ]
  }
 ],
 "metadata": {
  "kernelspec": {
   "display_name": "base",
   "language": "python",
   "name": "python3"
  },
  "language_info": {
   "codemirror_mode": {
    "name": "ipython",
    "version": 3
   },
   "file_extension": ".py",
   "mimetype": "text/x-python",
   "name": "python",
   "nbconvert_exporter": "python",
   "pygments_lexer": "ipython3",
   "version": "3.12.7"
  }
 },
 "nbformat": 4,
 "nbformat_minor": 2
}
