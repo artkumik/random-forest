{
 "cells": [
  {
   "cell_type": "code",
   "execution_count": 1,
   "metadata": {},
   "outputs": [],
   "source": [
    "import pandas as pd\n",
    "import numpy as np\n",
    "import seaborn as sns\n",
    "import matplotlib.pyplot as plt"
   ]
  },
  {
   "cell_type": "code",
   "execution_count": 2,
   "metadata": {},
   "outputs": [
    {
     "name": "stdout",
     "output_type": "stream",
     "text": [
      "Index(['time', ' 0 id', ' 0 gpu_util %', ' 0 memory_util %',\n",
      "       ' 0 encoder_util %', ' 0 decoder_util %', ' 0 gpu_temp C',\n",
      "       ' 0 power_draw W', ' 0 vram_mem_used MiB', ' 0 vram_mem_total MiB',\n",
      "       ' '],\n",
      "      dtype='object')\n"
     ]
    },
    {
     "data": {
      "text/html": [
       "<div>\n",
       "<style scoped>\n",
       "    .dataframe tbody tr th:only-of-type {\n",
       "        vertical-align: middle;\n",
       "    }\n",
       "\n",
       "    .dataframe tbody tr th {\n",
       "        vertical-align: top;\n",
       "    }\n",
       "\n",
       "    .dataframe thead th {\n",
       "        text-align: right;\n",
       "    }\n",
       "</style>\n",
       "<table border=\"1\" class=\"dataframe\">\n",
       "  <thead>\n",
       "    <tr style=\"text-align: right;\">\n",
       "      <th></th>\n",
       "      <th>time</th>\n",
       "      <th>0 id</th>\n",
       "      <th>0 gpu_util %</th>\n",
       "      <th>0 memory_util %</th>\n",
       "      <th>0 encoder_util %</th>\n",
       "      <th>0 decoder_util %</th>\n",
       "      <th>0 gpu_temp C</th>\n",
       "      <th>0 power_draw W</th>\n",
       "      <th>0 vram_mem_used MiB</th>\n",
       "      <th>0 vram_mem_total MiB</th>\n",
       "      <th></th>\n",
       "    </tr>\n",
       "  </thead>\n",
       "  <tbody>\n",
       "    <tr>\n",
       "      <th>0</th>\n",
       "      <td>2025-03-25T01:55:25.967307</td>\n",
       "      <td>0</td>\n",
       "      <td>0</td>\n",
       "      <td>0</td>\n",
       "      <td>0</td>\n",
       "      <td>0</td>\n",
       "      <td>24</td>\n",
       "      <td>62.54</td>\n",
       "      <td>115MiB</td>\n",
       "      <td>81920MiB</td>\n",
       "      <td>NaN</td>\n",
       "    </tr>\n",
       "    <tr>\n",
       "      <th>1</th>\n",
       "      <td>2025-03-25T01:55:26.177348</td>\n",
       "      <td>0</td>\n",
       "      <td>0</td>\n",
       "      <td>0</td>\n",
       "      <td>0</td>\n",
       "      <td>0</td>\n",
       "      <td>24</td>\n",
       "      <td>62.27</td>\n",
       "      <td>115MiB</td>\n",
       "      <td>81920MiB</td>\n",
       "      <td>NaN</td>\n",
       "    </tr>\n",
       "    <tr>\n",
       "      <th>2</th>\n",
       "      <td>2025-03-25T01:55:26.334325</td>\n",
       "      <td>0</td>\n",
       "      <td>0</td>\n",
       "      <td>0</td>\n",
       "      <td>0</td>\n",
       "      <td>0</td>\n",
       "      <td>24</td>\n",
       "      <td>62.27</td>\n",
       "      <td>115MiB</td>\n",
       "      <td>81920MiB</td>\n",
       "      <td>NaN</td>\n",
       "    </tr>\n",
       "    <tr>\n",
       "      <th>3</th>\n",
       "      <td>2025-03-25T01:55:26.501079</td>\n",
       "      <td>0</td>\n",
       "      <td>0</td>\n",
       "      <td>0</td>\n",
       "      <td>0</td>\n",
       "      <td>0</td>\n",
       "      <td>24</td>\n",
       "      <td>61.95</td>\n",
       "      <td>115MiB</td>\n",
       "      <td>81920MiB</td>\n",
       "      <td>NaN</td>\n",
       "    </tr>\n",
       "    <tr>\n",
       "      <th>4</th>\n",
       "      <td>2025-03-25T01:55:26.708041</td>\n",
       "      <td>0</td>\n",
       "      <td>0</td>\n",
       "      <td>0</td>\n",
       "      <td>0</td>\n",
       "      <td>0</td>\n",
       "      <td>24</td>\n",
       "      <td>62.27</td>\n",
       "      <td>115MiB</td>\n",
       "      <td>81920MiB</td>\n",
       "      <td>NaN</td>\n",
       "    </tr>\n",
       "  </tbody>\n",
       "</table>\n",
       "</div>"
      ],
      "text/plain": [
       "                         time   0 id   0 gpu_util %   0 memory_util %  \\\n",
       "0  2025-03-25T01:55:25.967307      0              0                 0   \n",
       "1  2025-03-25T01:55:26.177348      0              0                 0   \n",
       "2  2025-03-25T01:55:26.334325      0              0                 0   \n",
       "3  2025-03-25T01:55:26.501079      0              0                 0   \n",
       "4  2025-03-25T01:55:26.708041      0              0                 0   \n",
       "\n",
       "    0 encoder_util %   0 decoder_util %   0 gpu_temp C   0 power_draw W  \\\n",
       "0                  0                  0             24            62.54   \n",
       "1                  0                  0             24            62.27   \n",
       "2                  0                  0             24            62.27   \n",
       "3                  0                  0             24            61.95   \n",
       "4                  0                  0             24            62.27   \n",
       "\n",
       "   0 vram_mem_used MiB  0 vram_mem_total MiB      \n",
       "0               115MiB              81920MiB NaN  \n",
       "1               115MiB              81920MiB NaN  \n",
       "2               115MiB              81920MiB NaN  \n",
       "3               115MiB              81920MiB NaN  \n",
       "4               115MiB              81920MiB NaN  "
      ]
     },
     "execution_count": 2,
     "metadata": {},
     "output_type": "execute_result"
    }
   ],
   "source": [
    "df = pd.read_csv(\"mylogfile.log\",delimiter=',')\n",
    "print(df.columns)\n",
    "df.head()"
   ]
  },
  {
   "cell_type": "code",
   "execution_count": null,
   "metadata": {},
   "outputs": [
    {
     "data": {
      "image/png": "[encoded data removed]",
      "text/plain": [
       "<Figure size 640x480 with 1 Axes>"
      ]
     },
     "metadata": {},
     "output_type": "display_data"
    }
   ],
   "source": [
    "sns.lineplot(data = df, x = \"time\", y = \" 0 gpu_temp C\")\n",
    "plt.xlabel(f\"Time\")\n",
    "plt.ylabel(f\"Tempererature\")\n",
    "plt.title(f\"Temperature Chart\")\n",
    "plt.show()"
   ]
  }
 ],
 "metadata": {
  "kernelspec": {
   "display_name": "base",
   "language": "python",
   "name": "python3"
  },
  "language_info": {
   "codemirror_mode": {
    "name": "ipython",
    "version": 3
   },
   "file_extension": ".py",
   "mimetype": "text/x-python",
   "name": "python",
   "nbconvert_exporter": "python",
   "pygments_lexer": "ipython3",
   "version": "3.11.7"
  }
 },
 "nbformat": 4,
 "nbformat_minor": 2
}
